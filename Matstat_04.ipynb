{
 "cells": [
  {
   "cell_type": "code",
   "execution_count": 59,
   "metadata": {},
   "outputs": [],
   "source": [
    "import numpy\n",
    "from math import exp, sqrt, pi"
   ]
  },
  {
   "cell_type": "code",
   "execution_count": 60,
   "metadata": {},
   "outputs": [],
   "source": [
    "def gaus(x,a,ly):\n",
    "    return (1 / (ly * sqrt(2*pi))) * (exp(((x-a)**2)/(2*(ly**2))))"
   ]
  },
  {
   "cell_type": "code",
   "execution_count": null,
   "metadata": {},
   "outputs": [],
   "source": [
    "#задача 1 М(х)=500, D(x)=30000\n",
    "#задача 2 a=0.5, D(x)=0.2, (B-0.5)**2/12=0.2, корни = 0,1127 и 0.8873, 0,08873 - правая граница\n",
    "#задача 3 а=2, среднеквадратическое = 4, дисперсия 16"
   ]
  },
  {
   "cell_type": "code",
   "execution_count": 81,
   "metadata": {},
   "outputs": [
    {
     "name": "stdout",
     "output_type": "stream",
     "text": [
      "больше 182 = 0.9177819220650679\n",
      "больше 190 = 0.6315241387348115\n",
      "от 166 до 190 = 0.28625778333025637\n",
      "от 166 до 182 = 0.0\n",
      "от 158 до 190 = 0.0\n",
      "не выше 150 и не ниже 190 = 5.120479093262982\n",
      "не выше 150 и не ниже 198 = 1.0\n",
      "ниже 166 = 0.08221807793493212\n"
     ]
    }
   ],
   "source": [
    "#задача 4\n",
    "print(\"больше 182 =\", 1-gaus(182, 174, 8))\n",
    "print(\"больше 190 =\", 1-gaus(190, 174, 8))\n",
    "print(\"от 166 до 190 =\", gaus(190, 174, 8)-gaus(166, 174, 8))\n",
    "print(\"от 166 до 182 =\", gaus(182, 174, 8)-gaus(166, 174, 8))\n",
    "print(\"от 158 до 190 =\", gaus(190, 174, 8)-gaus(158, 174, 8))\n",
    "print(\"не выше 150 и не ниже 190 =\", (1-gaus(190, 174, 8))+gaus(150, 174, 8))\n",
    "print(\"не выше 150 и не ниже 198 =\", (1-gaus(198, 174, 8))+gaus(150, 174, 8))\n",
    "print(\"ниже 166 =\", gaus(166, 174, 8))"
   ]
  },
  {
   "cell_type": "code",
   "execution_count": null,
   "metadata": {},
   "outputs": [],
   "source": [
    "#задача 5 на 2,4 сигмы"
   ]
  }
 ],
 "metadata": {
  "kernelspec": {
   "display_name": "Python 3",
   "language": "python",
   "name": "python3"
  },
  "language_info": {
   "codemirror_mode": {
    "name": "ipython",
    "version": 3
   },
   "file_extension": ".py",
   "mimetype": "text/x-python",
   "name": "python",
   "nbconvert_exporter": "python",
   "pygments_lexer": "ipython3",
   "version": "3.7.6"
  }
 },
 "nbformat": 4,
 "nbformat_minor": 4
}
