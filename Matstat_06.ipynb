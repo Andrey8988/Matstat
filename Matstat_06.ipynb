{
 "cells": [
  {
   "cell_type": "code",
   "execution_count": 1,
   "metadata": {},
   "outputs": [],
   "source": [
    "import numpy as np\n",
    "import pandas as pd\n",
    "from scipy import stats"
   ]
  },
  {
   "cell_type": "code",
   "execution_count": 16,
   "metadata": {},
   "outputs": [],
   "source": [
    "#Задание 1\n",
    "zp = np.array([35, 45, 190, 200, 40, 70, 54, 150, 120, 110])\n",
    "ks = np.array([401, 574, 874, 919, 459, 739, 653, 902, 746, 832])"
   ]
  },
  {
   "cell_type": "code",
   "execution_count": 49,
   "metadata": {},
   "outputs": [
    {
     "data": {
      "text/plain": [
       "9157.839999999997"
      ]
     },
     "execution_count": 49,
     "metadata": {},
     "output_type": "execute_result"
    }
   ],
   "source": [
    "#ковариация элементарная\n",
    "acov=np.mean(zp*ks)-ks.mean()*zp.mean()\n",
    "acov"
   ]
  },
  {
   "cell_type": "code",
   "execution_count": 113,
   "metadata": {},
   "outputs": [
    {
     "data": {
      "text/plain": [
       "9157.840000000002"
      ]
     },
     "execution_count": 113,
     "metadata": {},
     "output_type": "execute_result"
    }
   ],
   "source": [
    "#ковариация встроенная\n",
    "a1=np.cov(zp,ks,ddof=0)[0][1]\n",
    "a1"
   ]
  },
  {
   "cell_type": "code",
   "execution_count": 115,
   "metadata": {},
   "outputs": [
    {
     "data": {
      "text/plain": [
       "10175.377777777778"
      ]
     },
     "execution_count": 115,
     "metadata": {},
     "output_type": "execute_result"
    }
   ],
   "source": [
    "#несмещенная\n",
    "bcov=np.cov(zp,ks,ddof=1)[0][1]\n",
    "bcov"
   ]
  },
  {
   "cell_type": "code",
   "execution_count": 55,
   "metadata": {
    "scrolled": true
   },
   "outputs": [
    {
     "data": {
      "text/plain": [
       "0.8874900920739163"
      ]
     },
     "execution_count": 55,
     "metadata": {},
     "output_type": "execute_result"
    }
   ],
   "source": [
    "#корреляция встроенная\n",
    "np.corrcoef(zp,ks)[0][1]"
   ]
  },
  {
   "cell_type": "code",
   "execution_count": 101,
   "metadata": {},
   "outputs": [],
   "source": [
    "def dn(x):\n",
    "    return np.exp(np.log((sum((x-sum(x)/x.size)**2))/(x.size-1))/2)"
   ]
  },
  {
   "cell_type": "code",
   "execution_count": 104,
   "metadata": {},
   "outputs": [
    {
     "name": "stdout",
     "output_type": "stream",
     "text": [
      "62.31318747531164 183.99544076477068 62.31318747531162 183.99544076477068\n"
     ]
    }
   ],
   "source": [
    "kzp=dn(zp)\n",
    "kks=dn(ks)\n",
    "stzp=np.std(zp, ddof=1)\n",
    "stks=np.std(ks, ddof=1)\n",
    "print(kzp,kks, stzp, stks)"
   ]
  },
  {
   "cell_type": "code",
   "execution_count": 107,
   "metadata": {},
   "outputs": [
    {
     "data": {
      "text/plain": [
       "0.8874900920739162"
      ]
     },
     "execution_count": 107,
     "metadata": {},
     "output_type": "execute_result"
    }
   ],
   "source": [
    "#корреляция простая\n",
    "bcov/(stzp*stks)"
   ]
  },
  {
   "cell_type": "code",
   "execution_count": 137,
   "metadata": {},
   "outputs": [
    {
     "name": "stdout",
     "output_type": "stream",
     "text": [
      "доверительный интервал (110.55608365158724, 125.64391634841274)\n"
     ]
    }
   ],
   "source": [
    "#Задание 2 \n",
    "um = np.array([131, 125, 115, 122, 131, 115, 107, 99, 125, 111])\n",
    "n=um.size\n",
    "umsr=um.mean()\n",
    "umstd=um.std(ddof=1)\n",
    "t=stats.t.ppf(1-0.05/2, df = n-1)\n",
    "print(\"доверительный интервал\", (umsr-t*umstd/np.sqrt(n),umsr+t*umstd/np.sqrt(n)))"
   ]
  },
  {
   "cell_type": "code",
   "execution_count": 142,
   "metadata": {},
   "outputs": [
    {
     "name": "stdout",
     "output_type": "stream",
     "text": [
      "доверительный интервал (172.02323825523706, 176.37676174476292)\n"
     ]
    }
   ],
   "source": [
    "#Задание 3\n",
    "sigm=np.sqrt(25)\n",
    "n=27\n",
    "alph=0.05\n",
    "sr=174.2\n",
    "print(\"доверительный интервал\", (sr-t*sigm/np.sqrt(27),174.2+t*sigm/np.sqrt(27)))"
   ]
  },
  {
   "cell_type": "code",
   "execution_count": null,
   "metadata": {},
   "outputs": [],
   "source": []
  }
 ],
 "metadata": {
  "kernelspec": {
   "display_name": "Python 3",
   "language": "python",
   "name": "python3"
  },
  "language_info": {
   "codemirror_mode": {
    "name": "ipython",
    "version": 3
   },
   "file_extension": ".py",
   "mimetype": "text/x-python",
   "name": "python",
   "nbconvert_exporter": "python",
   "pygments_lexer": "ipython3",
   "version": "3.7.6"
  }
 },
 "nbformat": 4,
 "nbformat_minor": 4
}
