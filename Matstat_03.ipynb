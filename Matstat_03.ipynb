{
 "cells": [
  {
   "cell_type": "code",
   "execution_count": 120,
   "metadata": {},
   "outputs": [],
   "source": [
    "import numpy as np\n",
    "#import math as m\n",
    "from math import log, exp, factorial"
   ]
  },
  {
   "cell_type": "code",
   "execution_count": 116,
   "metadata": {},
   "outputs": [],
   "source": [
    "# задача 1\n",
    "a=np.array([100, 80, 75, 77, 89, 33, 45, 25, 65, 17, 30, 24, 57, 55, 70, 75, 65, 84, 90, 150])\n"
   ]
  },
  {
   "cell_type": "code",
   "execution_count": 119,
   "metadata": {},
   "outputs": [
    {
     "name": "stdout",
     "output_type": "stream",
     "text": [
      "Выборка [100  80  75  77  89  33  45  25  65  17  30  24  57  55  70  75  65  84\n",
      "  90 150]\n",
      "размер выборки                  = 20\n",
      "сумма выборки                   = 1306\n",
      "среднее арифметическое          = 65.3\n",
      "дисперсия смещенная             = 950.11\n",
      "дисперсия не смещенная          = 1000.1157894736842\n",
      "среднеквадратическое отклонение = 31.624607341019807\n"
     ]
    }
   ],
   "source": [
    "d=(sum((a-sum(a)/a.size)**2))/a.size\n",
    "dn=(sum((a-sum(a)/a.size)**2))/(a.size-1)\n",
    "#s2=m.sqrt(dn)\n",
    "s=exp(log(dn)/2)\n",
    "print(\"Выборка\",a)\n",
    "print(\"размер выборки                  =\",a.size)\n",
    "print(\"сумма выборки                   =\",sum(a))\n",
    "print(\"среднее арифметическое          =\",sum(a)/a.size)\n",
    "print(\"дисперсия смещенная             =\",d)\n",
    "print(\"дисперсия не смещенная          =\",dn)\n",
    "print(\"среднеквадратическое отклонение =\",s)         "
   ]
  },
  {
   "cell_type": "code",
   "execution_count": 122,
   "metadata": {},
   "outputs": [],
   "source": [
    "# задача 2\n",
    "def combinations(n, k):\n",
    "    return factorial(n)/(factorial(k)*factorial(n-k))"
   ]
  },
  {
   "cell_type": "code",
   "execution_count": 198,
   "metadata": {},
   "outputs": [
    {
     "data": {
      "text/plain": [
       "0.12626262626262627"
      ]
     },
     "execution_count": 198,
     "metadata": {},
     "output_type": "execute_result"
    }
   ],
   "source": [
    "p1=combinations(5,2)/combinations(8,2)*combinations(5,1)*combinations(7,3)/combinations(12,4) # 2 - 1\n",
    "p1"
   ]
  },
  {
   "cell_type": "code",
   "execution_count": 150,
   "metadata": {},
   "outputs": [
    {
     "data": {
      "text/plain": [
       "0.22727272727272724"
      ]
     },
     "execution_count": 150,
     "metadata": {},
     "output_type": "execute_result"
    }
   ],
   "source": [
    "p2=combinations(5,1)*combinations(3,1)/combinations(8,2)*combinations(5,2)*combinations(7,2)/combinations(12,4) # 1 - 2\n",
    "p2"
   ]
  },
  {
   "cell_type": "code",
   "execution_count": 151,
   "metadata": {},
   "outputs": [
    {
     "data": {
      "text/plain": [
       "0.015151515151515152"
      ]
     },
     "execution_count": 151,
     "metadata": {},
     "output_type": "execute_result"
    }
   ],
   "source": [
    "p3=combinations(3,2)/combinations(8,2)*combinations(5,3)*combinations(7,1)/combinations(12,4) # 0 - 3\n",
    "p3"
   ]
  },
  {
   "cell_type": "code",
   "execution_count": 152,
   "metadata": {},
   "outputs": [
    {
     "data": {
      "text/plain": [
       "0.246031746031746"
      ]
     },
     "execution_count": 152,
     "metadata": {},
     "output_type": "execute_result"
    }
   ],
   "source": [
    "p1+p2+p3\n"
   ]
  },
  {
   "cell_type": "code",
   "execution_count": 167,
   "metadata": {},
   "outputs": [],
   "source": [
    "def bernul(n, k, p):\n",
    "    return (factorial(n)/(factorial(k)*factorial(n-k)))*(p**k)*((1-p)**(n-k))"
   ]
  },
  {
   "cell_type": "code",
   "execution_count": 195,
   "metadata": {},
   "outputs": [
    {
     "name": "stdout",
     "output_type": "stream",
     "text": [
      "попал 1-й 0.391304347826087\n",
      "попал 2-й 0.3478260869565218\n",
      "попал 3-й 0.2608695652173913\n"
     ]
    }
   ],
   "source": [
    "# задача 3\n",
    "print(\"попал 1-й\",(1/3*0.9)/(1/3*0.9+1/3*0.8+1/3*0.6))\n",
    "print(\"попал 2-й\",(1/3*0.8)/(1/3*0.9+1/3*0.8+1/3*0.6))\n",
    "print(\"попал 3-й\",(1/3*0.6)/(1/3*0.9+1/3*0.8+1/3*0.6))"
   ]
  },
  {
   "cell_type": "code",
   "execution_count": 196,
   "metadata": {},
   "outputs": [
    {
     "name": "stdout",
     "output_type": "stream",
     "text": [
      "сдал А 0.24242424242424246\n",
      "сдал В 0.21212121212121213\n",
      "сдал С 0.5454545454545455\n"
     ]
    }
   ],
   "source": [
    "# задача 4\n",
    "print(\"сдал А\",(1/4*0.8)/(1/4*0.8+1/4*0.7+1/2*0.9))\n",
    "print(\"сдал В\",(1/4*0.7)/(1/4*0.8+1/4*0.7+1/2*0.9))\n",
    "print(\"сдал С\",(2/4*0.9)/(1/4*0.8+1/4*0.7+1/2*0.9))"
   ]
  },
  {
   "cell_type": "code",
   "execution_count": 206,
   "metadata": {},
   "outputs": [
    {
     "name": "stdout",
     "output_type": "stream",
     "text": [
      "сломаются все детали 0.005000000000000001\n",
      "сломаются 2 детали 0.08\n",
      "сломаются одна и больше деталей 0.45999999999999996\n"
     ]
    }
   ],
   "source": [
    "# задача 5\n",
    "w1=0.1\n",
    "w2=0.2\n",
    "w3=0.25\n",
    "print('сломаются все детали',w1*w2*w3)\n",
    "print('сломаются 2 детали',(1-w1)*w2*w3 + w1*(1-w2)*w3 + w1*w2*(1-w3))\n",
    "print('сломаются одна и больше деталей',1-(1-w1)*(1-w2)*(1-w3))\n",
    "      "
   ]
  },
  {
   "cell_type": "code",
   "execution_count": null,
   "metadata": {},
   "outputs": [],
   "source": []
  }
 ],
 "metadata": {
  "kernelspec": {
   "display_name": "Python 3",
   "language": "python",
   "name": "python3"
  },
  "language_info": {
   "codemirror_mode": {
    "name": "ipython",
    "version": 3
   },
   "file_extension": ".py",
   "mimetype": "text/x-python",
   "name": "python",
   "nbconvert_exporter": "python",
   "pygments_lexer": "ipython3",
   "version": "3.7.6"
  }
 },
 "nbformat": 4,
 "nbformat_minor": 4
}
